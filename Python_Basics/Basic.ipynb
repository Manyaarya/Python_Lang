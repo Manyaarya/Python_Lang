{
 "cells": [
  {
   "cell_type": "markdown",
   "metadata": {},
   "source": [
    "## Recommended to create separate environments for every project\n",
    "### Ways to create environment Variable\n",
    "#### 1 conda create -p venv python==\"version\" -- ACTIVATE: conda activate venv/\n",
    "#### 2 python -m venv venv/ ACTIVATE: source venv/bin/activate\n",
    "#### 3 virtualenv venv/ ACTIVATE: source venv/bin/activate\n",
    "#### 4 python -m virtualenv venv/ ACTIVATE: source venv/bin/activate\n",
    "\n"
   ]
  },
  {
   "cell_type": "code",
   "execution_count": null,
   "metadata": {},
   "outputs": [],
   "source": []
  },
  {
   "cell_type": "code",
   "execution_count": null,
   "metadata": {},
   "outputs": [],
   "source": []
  },
  {
   "cell_type": "code",
   "execution_count": null,
   "metadata": {},
   "outputs": [],
   "source": []
  }
 ],
 "metadata": {
  "kernelspec": {
   "display_name": "Python 3",
   "language": "python",
   "name": "python3"
  },
  "language_info": {
   "codemirror_mode": {
    "name": "ipython",
    "version": 3
   },
   "file_extension": ".py",
   "mimetype": "text/x-python",
   "name": "python",
   "nbconvert_exporter": "python",
   "pygments_lexer": "ipython3",
   "version": "3.12.0"
  }
 },
 "nbformat": 4,
 "nbformat_minor": 2
}
