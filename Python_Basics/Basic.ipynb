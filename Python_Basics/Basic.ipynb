{
 "cells": [
  {
   "cell_type": "markdown",
   "metadata": {},
   "source": [
    "## Recommended to create separate environments for every project\n",
    "### Ways to create environment Variable\n",
    "#### 1 conda create -p venv python==\"version\" -- ACTIVATE: conda activate venv/\n",
    "#### 2 python -m venv venv/ ACTIVATE: source venv/bin/activate\n",
    "#### 3 virtualenv venv/ ACTIVATE: source venv/bin/activate\n",
    "#### 4 python -m virtualenv venv/ ACTIVATE: source venv/bin/activate\n",
    "\n"
   ]
  },
  {
   "cell_type": "markdown",
   "metadata": {},
   "source": [
    "# Python Syntax and Semantics"
   ]
  },
  {
   "cell_type": "code",
   "execution_count": 5,
   "metadata": {},
   "outputs": [
    {
     "name": "stdout",
     "output_type": "stream",
     "text": [
      "manya\n"
     ]
    }
   ],
   "source": [
    "## Basic syntax rules\n",
    "## Case Sensitive\n",
    "\n",
    "name=\"Manya\"\n",
    "name=\"manya\"\n",
    "print(name)"
   ]
  },
  {
   "cell_type": "code",
   "execution_count": 7,
   "metadata": {},
   "outputs": [
    {
     "name": "stdout",
     "output_type": "stream",
     "text": [
      "manya\n",
      "Manya\n"
     ]
    }
   ],
   "source": [
    "## Both Variables are different\n",
    "Name=\"Manya\"\n",
    "print(name)\n",
    "print(Name)"
   ]
  },
  {
   "cell_type": "markdown",
   "metadata": {},
   "source": [
    "## Indentation\n",
    "### To define structure and hirarchy of code."
   ]
  },
  {
   "cell_type": "code",
   "execution_count": 11,
   "metadata": {},
   "outputs": [
    {
     "name": "stdout",
     "output_type": "stream",
     "text": [
      "He is 50\n"
     ]
    }
   ],
   "source": [
    "age=50\n",
    "if age>32:\n",
    "    print(f\"He is {age}\")"
   ]
  },
  {
   "cell_type": "markdown",
   "metadata": {},
   "source": [
    "## Line Continuation\n",
    "### The line continuation character is the backslash (\\(\\backslash\\)). It is used to indicate that the current line of code is not complete and that the next line is a continuation of the current line. The backslash is placed at the end of the current line, and the next line is indented to the same level as the current line."
   ]
  },
  {
   "cell_type": "code",
   "execution_count": 12,
   "metadata": {},
   "outputs": [
    {
     "name": "stdout",
     "output_type": "stream",
     "text": [
      "210\n"
     ]
    }
   ],
   "source": [
    "Total= 10+20+30+\\\n",
    "40+50+60\n",
    "print(Total)"
   ]
  },
  {
   "cell_type": "code",
   "execution_count": 13,
   "metadata": {},
   "outputs": [
    {
     "name": "stdout",
     "output_type": "stream",
     "text": [
      "15\n"
     ]
    }
   ],
   "source": [
    "## Multiply segments in a line\n",
    "x=5;y=10;z=x+y\n",
    "print(x+y)"
   ]
  },
  {
   "cell_type": "code",
   "execution_count": 14,
   "metadata": {},
   "outputs": [
    {
     "data": {
      "text/plain": [
       "int"
      ]
     },
     "execution_count": 14,
     "metadata": {},
     "output_type": "execute_result"
    }
   ],
   "source": [
    "type(z)"
   ]
  },
  {
   "cell_type": "code",
   "execution_count": null,
   "metadata": {},
   "outputs": [],
   "source": []
  }
 ],
 "metadata": {
  "kernelspec": {
   "display_name": "Python 3",
   "language": "python",
   "name": "python3"
  },
  "language_info": {
   "codemirror_mode": {
    "name": "ipython",
    "version": 3
   },
   "file_extension": ".py",
   "mimetype": "text/x-python",
   "name": "python",
   "nbconvert_exporter": "python",
   "pygments_lexer": "ipython3",
   "version": "3.12.0"
  }
 },
 "nbformat": 4,
 "nbformat_minor": 2
}
