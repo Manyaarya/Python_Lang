{
 "cells": [
  {
   "cell_type": "code",
   "execution_count": null,
   "metadata": {},
   "outputs": [],
   "source": []
  },
  {
   "cell_type": "markdown",
   "metadata": {},
   "source": [
    "## Python Memory Management\n",
    "##### Memory management in Python involves a combination of automatic garbage collection, reference counting, and various internal optimizations to efficiently manage memory allocation and deallocation. Understanding these mechanisms can help developers write more efficient and robust applications.\n",
    "\n",
    "#### Key Concepts in Python Memory Management\n",
    "###### Memory Allocation and Deallocation\n",
    "###### Reference Counting\n",
    "###### Garbage Collection\n",
    "###### The gc Module\n",
    "###### Memory Management Best Practices"
   ]
  },
  {
   "cell_type": "markdown",
   "metadata": {},
   "source": [
    "#### Reference Counting\n",
    "##### Reference counting is the primary method Python uses to manage memory. Each object in Python maintains a count of references pointing to it. When the reference count drops to zero, the memory occupied by the object is deallocated."
   ]
  },
  {
   "cell_type": "code",
   "execution_count": 7,
   "metadata": {},
   "outputs": [
    {
     "name": "stdout",
     "output_type": "stream",
     "text": [
      "2\n"
     ]
    }
   ],
   "source": [
    "import sys\n",
    "\n",
    "a=[]\n",
    "## 2 (ine reference from 'a' and one from getrefcount())\n",
    "print(sys.getrefcount(a))"
   ]
  },
  {
   "cell_type": "code",
   "execution_count": 8,
   "metadata": {},
   "outputs": [
    {
     "name": "stdout",
     "output_type": "stream",
     "text": [
      "3\n"
     ]
    }
   ],
   "source": [
    "b=a\n",
    "print(sys.getrefcount(a))"
   ]
  },
  {
   "cell_type": "code",
   "execution_count": 9,
   "metadata": {},
   "outputs": [
    {
     "name": "stdout",
     "output_type": "stream",
     "text": [
      "3\n"
     ]
    }
   ],
   "source": [
    "b=a\n",
    "print(sys.getrefcount(b))"
   ]
  },
  {
   "cell_type": "code",
   "execution_count": 10,
   "metadata": {},
   "outputs": [],
   "source": [
    "del b"
   ]
  },
  {
   "cell_type": "code",
   "execution_count": 11,
   "metadata": {},
   "outputs": [
    {
     "name": "stdout",
     "output_type": "stream",
     "text": [
      "2\n"
     ]
    }
   ],
   "source": [
    "print(sys.getrefcount(a))"
   ]
  },
  {
   "cell_type": "markdown",
   "metadata": {},
   "source": [
    "## Garbage Collection\n",
    "### Python includes a cyclic garbage collector to handle reference cycles. Reference cycles occur when objects reference each othe, preventing their reference count from reaching zero."
   ]
  },
  {
   "cell_type": "code",
   "execution_count": 12,
   "metadata": {},
   "outputs": [],
   "source": [
    "import gc## enable garbage collection\n",
    "gc.enable()"
   ]
  },
  {
   "cell_type": "code",
   "execution_count": 13,
   "metadata": {},
   "outputs": [],
   "source": [
    "gc.disable()"
   ]
  },
  {
   "cell_type": "code",
   "execution_count": 14,
   "metadata": {},
   "outputs": [
    {
     "data": {
      "text/plain": [
       "222"
      ]
     },
     "execution_count": 14,
     "metadata": {},
     "output_type": "execute_result"
    }
   ],
   "source": [
    "gc.collect()"
   ]
  },
  {
   "cell_type": "code",
   "execution_count": 15,
   "metadata": {},
   "outputs": [
    {
     "name": "stdout",
     "output_type": "stream",
     "text": [
      "[{'collections': 167, 'collected': 1591, 'uncollectable': 0}, {'collections': 15, 'collected': 120, 'uncollectable': 0}, {'collections': 2, 'collected': 222, 'uncollectable': 0}]\n"
     ]
    }
   ],
   "source": [
    "## Get Garbage collection stats\n",
    "print(gc.get_stats())"
   ]
  },
  {
   "cell_type": "code",
   "execution_count": 17,
   "metadata": {},
   "outputs": [
    {
     "name": "stdout",
     "output_type": "stream",
     "text": [
      "[]\n"
     ]
    }
   ],
   "source": [
    "### get unreachable objects\n",
    "print(gc.garbage)"
   ]
  },
  {
   "cell_type": "code",
   "execution_count": null,
   "metadata": {},
   "outputs": [],
   "source": []
  },
  {
   "cell_type": "markdown",
   "metadata": {},
   "source": [
    "### Memory Management Best Practices\n",
    "##### Use Local Variables: Local variables have a shorter lifespan and are freed sooner than global variables.\n",
    "##### Avoid Circular References: Circular references can lead to memory leaks if not properly managed.\n",
    "##### Use Generators: Generators produce items one at a time and only keep one item in memory at a time, making them memory efficient.\n",
    "##### Explicitly Delete Objects: Use the del statement to delete variables and objects explicitly.\n",
    "##### Profile Memory Usage: Use memory profiling tools like tracemalloc and memory_profiler to identify memory leaks and optimize memory usage."
   ]
  },
  {
   "cell_type": "markdown",
   "metadata": {},
   "source": []
  },
  {
   "cell_type": "code",
   "execution_count": 18,
   "metadata": {},
   "outputs": [
    {
     "name": "stdout",
     "output_type": "stream",
     "text": [
      "Object obj1 created\n",
      "Object obj2 created\n",
      "Object obj1 deleted\n",
      "Object obj2 deleted\n"
     ]
    },
    {
     "data": {
      "text/plain": [
       "1138"
      ]
     },
     "execution_count": 18,
     "metadata": {},
     "output_type": "execute_result"
    }
   ],
   "source": [
    "#Handled Circular reference\n",
    "import gc\n",
    "class MyObject:\n",
    "    def __init__(self, name):\n",
    "        self.name = name\n",
    "        print(f\"Object {self.name} created\")\n",
    "        \n",
    "    def __del__(self):\n",
    "        print(f\"Object {self.name} deleted\")\n",
    "        \n",
    "## Create circular reference\n",
    "obj1 = MyObject(\"obj1\")\n",
    "obj2 = MyObject(\"obj2\")\n",
    "obj1.ref = obj2\n",
    "obj2.ref=obj1\n",
    "\n",
    "del obj1\n",
    "del obj2\n",
    "\n",
    "## Manually trigger the package collections\n",
    "gc.collect()"
   ]
  },
  {
   "cell_type": "code",
   "execution_count": 19,
   "metadata": {},
   "outputs": [
    {
     "name": "stdout",
     "output_type": "stream",
     "text": [
      "0\n",
      "1\n",
      "2\n",
      "3\n",
      "4\n",
      "5\n",
      "6\n",
      "7\n",
      "8\n",
      "9\n",
      "10\n",
      "11\n"
     ]
    }
   ],
   "source": [
    "## Generators for Memory Efficiency\n",
    "## Generators allow you to produce items one at a time, using memory efficiently by only keeping one item in memory at a time.\n",
    "\n",
    "def generate_numbers(n):\n",
    "    for i in range(n):\n",
    "        yield i\n",
    "##using the generator\n",
    "for num in generate_numbers(10000):\n",
    "    print(num)\n",
    "    if num>10:\n",
    "        break"
   ]
  },
  {
   "cell_type": "code",
   "execution_count": 23,
   "metadata": {},
   "outputs": [],
   "source": [
    "\n",
    "## Profiling Memory USage with tracemalloc\n",
    "import tracemalloc\n",
    "\n",
    "def create_list():\n",
    "    return [i for i in range(10000)]\n",
    "\n",
    "def main():\n",
    "    tracemalloc.start()\n",
    "    \n",
    "    create_list()\n",
    "    \n",
    "    snapshot = tracemalloc.take_snapshot()\n",
    "    top_stats = snapshot.statistics('lineno')\n",
    "    \n",
    "    print(\"[ Top 10 ]\")\n",
    "    for stat in top_stats[::]:\n",
    "        print(stat)\n"
   ]
  },
  {
   "cell_type": "code",
   "execution_count": 24,
   "metadata": {},
   "outputs": [
    {
     "name": "stdout",
     "output_type": "stream",
     "text": [
      "[ Top 10 ]\n",
      "<frozen genericpath>:89: size=50.3 KiB, count=517, average=100 B\n",
      "/Users/manya./repos/Python_Lang/venv/lib/python3.12/site-packages/pygments/lexer.py:508: size=17.2 KiB, count=220, average=80 B\n",
      "/Users/manya./repos/Python_Lang/venv/lib/python3.12/site-packages/pygments/style.py:94: size=16.3 KiB, count=253, average=66 B\n",
      "/Users/manya./repos/Python_Lang/venv/lib/python3.12/site-packages/pygments/formatters/terminal256.py:44: size=14.6 KiB, count=294, average=51 B\n",
      "/Users/manya./repos/Python_Lang/venv/lib/python3.12/ast.py:52: size=13.8 KiB, count=148, average=96 B\n",
      "/Users/manya./repos/Python_Lang/venv/lib/python3.12/site-packages/pygments/token.py:44: size=10.7 KiB, count=159, average=69 B\n",
      "/Users/manya./repos/Python_Lang/venv/lib/python3.12/site-packages/pygments/lexer.py:591: size=10.4 KiB, count=180, average=59 B\n",
      "/Users/manya./repos/Python_Lang/venv/lib/python3.12/tokenize.py:537: size=9768 B, count=174, average=56 B\n",
      "<string>:1: size=9328 B, count=87, average=107 B\n",
      "/Users/manya./repos/Python_Lang/venv/lib/python3.12/site-packages/pygments/regexopt.py:77: size=7224 B, count=129, average=56 B\n",
      "/Users/manya./repos/Python_Lang/venv/lib/python3.12/site-packages/pygments/lexer.py:557: size=6736 B, count=68, average=99 B\n",
      "/Users/manya./repos/Python_Lang/venv/lib/python3.12/site-packages/IPython/core/compilerop.py:86: size=5564 B, count=84, average=66 B\n",
      "<frozen genericpath>:92: size=5208 B, count=93, average=56 B\n",
      "/Users/manya./repos/Python_Lang/venv/lib/python3.12/codeop.py:118: size=5061 B, count=74, average=68 B\n",
      "/Users/manya./repos/Python_Lang/venv/lib/python3.12/site-packages/stack_data/core.py:461: size=4765 B, count=80, average=60 B\n",
      "/Users/manya./repos/Python_Lang/venv/lib/python3.12/json/decoder.py:353: size=4695 B, count=61, average=77 B\n",
      "/Users/manya./repos/Python_Lang/venv/lib/python3.12/site-packages/stack_data/core.py:458: size=4624 B, count=1, average=4624 B\n",
      "/Users/manya./repos/Python_Lang/venv/lib/python3.12/site-packages/pygments/style.py:95: size=4624 B, count=1, average=4624 B\n",
      "/Users/manya./repos/Python_Lang/venv/lib/python3.12/site-packages/pygments/lexer.py:563: size=4544 B, count=26, average=175 B\n",
      "/Users/manya./repos/Python_Lang/venv/lib/python3.12/site-packages/pygments/lexer.py:46: size=4296 B, count=14, average=307 B\n",
      "/Users/manya./repos/Python_Lang/venv/lib/python3.12/site-packages/pygments/style.py:112: size=4080 B, count=80, average=51 B\n",
      "/Users/manya./repos/Python_Lang/venv/lib/python3.12/site-packages/pygments/formatters/terminal256.py:242: size=3264 B, count=1, average=3264 B\n",
      "/Users/manya./repos/Python_Lang/venv/lib/python3.12/site-packages/pygments/style.py:70: size=3196 B, count=68, average=47 B\n",
      "/Users/manya./repos/Python_Lang/venv/lib/python3.12/site-packages/asttokens/line_numbers.py:47: size=3080 B, count=22, average=140 B\n",
      "/Users/manya./repos/Python_Lang/venv/lib/python3.12/site-packages/pygments/lexer.py:537: size=3072 B, count=32, average=96 B\n",
      "/Users/manya./repos/Python_Lang/venv/lib/python3.12/site-packages/IPython/core/compilerop.py:174: size=2602 B, count=37, average=70 B\n",
      "/Users/manya./repos/Python_Lang/venv/lib/python3.12/site-packages/pygments/style.py:61: size=2328 B, count=8, average=291 B\n",
      "/Users/manya./repos/Python_Lang/venv/lib/python3.12/site-packages/pygments/formatters/terminal256.py:180: size=2144 B, count=1, average=2144 B\n",
      "/Users/manya./repos/Python_Lang/venv/lib/python3.12/site-packages/zmq/sugar/socket.py:805: size=2112 B, count=12, average=176 B\n",
      "/Users/manya./repos/Python_Lang/venv/lib/python3.12/site-packages/executing/executing.py:171: size=1912 B, count=26, average=74 B\n",
      "/Users/manya./repos/Python_Lang/venv/lib/python3.12/site-packages/jupyter_client/session.py:1057: size=1903 B, count=11, average=173 B\n",
      "/Users/manya./repos/Python_Lang/venv/lib/python3.12/site-packages/pygments/lexer.py:534: size=1792 B, count=32, average=56 B\n",
      "/Users/manya./repos/Python_Lang/venv/lib/python3.12/site-packages/stack_data/core.py:756: size=1648 B, count=12, average=137 B\n",
      "/Users/manya./repos/Python_Lang/venv/lib/python3.12/site-packages/pygments/lexer.py:564: size=1544 B, count=30, average=51 B\n",
      "/Users/manya./repos/Python_Lang/venv/lib/python3.12/threading.py:272: size=1520 B, count=4, average=380 B\n",
      "/Users/manya./repos/Python_Lang/venv/lib/python3.12/site-packages/pygments/lexer.py:532: size=1516 B, count=32, average=47 B\n",
      "/Users/manya./repos/Python_Lang/venv/lib/python3.12/site-packages/pygments/lexer.py:540: size=1488 B, count=31, average=48 B\n",
      "/Users/manya./repos/Python_Lang/venv/lib/python3.12/site-packages/pygments/lexer.py:573: size=1472 B, count=21, average=70 B\n",
      "/Users/manya./repos/Python_Lang/venv/lib/python3.12/site-packages/traitlets/traitlets.py:1543: size=1468 B, count=24, average=61 B\n",
      "/Users/manya./repos/Python_Lang/venv/lib/python3.12/site-packages/traitlets/traitlets.py:731: size=1461 B, count=23, average=64 B\n",
      "/Users/manya./repos/Python_Lang/venv/lib/python3.12/site-packages/executing/executing.py:169: size=1456 B, count=7, average=208 B\n",
      "/Users/manya./repos/Python_Lang/venv/lib/python3.12/site-packages/traitlets/traitlets.py:1514: size=1440 B, count=12, average=120 B\n",
      "/Users/manya./repos/Python_Lang/venv/lib/python3.12/site-packages/zmq/sugar/attrsettr.py:45: size=1363 B, count=29, average=47 B\n",
      "/Users/manya./repos/Python_Lang/venv/lib/python3.12/site-packages/stack_data/utils.py:170: size=1325 B, count=16, average=83 B\n",
      "/Users/manya./repos/Python_Lang/venv/lib/python3.12/site-packages/executing/executing.py:154: size=1270 B, count=19, average=67 B\n",
      "/Users/manya./repos/Python_Lang/venv/lib/python3.12/site-packages/jupyter_client/session.py:100: size=1239 B, count=8, average=155 B\n",
      "/Users/manya./repos/Python_Lang/venv/lib/python3.12/site-packages/executing/executing.py:317: size=1152 B, count=2, average=576 B\n",
      "/Users/manya./repos/Python_Lang/venv/lib/python3.12/site-packages/jupyter_client/jsonutil.py:111: size=1150 B, count=23, average=50 B\n",
      "/Users/manya./repos/Python_Lang/venv/lib/python3.12/site-packages/ipykernel/iostream.py:346: size=1064 B, count=15, average=71 B\n",
      "/Users/manya./repos/Python_Lang/venv/lib/python3.12/site-packages/IPython/core/interactiveshell.py:3104: size=1040 B, count=8, average=130 B\n",
      "/Users/manya./repos/Python_Lang/venv/lib/python3.12/ast.py:405: size=999 B, count=19, average=53 B\n",
      "/Users/manya./repos/Python_Lang/venv/lib/python3.12/site-packages/pygments/lexer.py:523: size=960 B, count=20, average=48 B\n",
      "/Users/manya./repos/Python_Lang/venv/lib/python3.12/site-packages/stack_data/core.py:115: size=896 B, count=16, average=56 B\n",
      "/Users/manya./repos/Python_Lang/venv/lib/python3.12/site-packages/IPython/core/interactiveshell.py:3380: size=894 B, count=2, average=447 B\n",
      "/Users/manya./repos/Python_Lang/venv/lib/python3.12/site-packages/IPython/core/history.py:782: size=886 B, count=3, average=295 B\n",
      "/Users/manya./repos/Python_Lang/venv/lib/python3.12/site-packages/ipykernel/ipkernel.py:449: size=880 B, count=5, average=176 B\n",
      "/Users/manya./repos/Python_Lang/venv/lib/python3.12/site-packages/ipykernel/ipkernel.py:362: size=808 B, count=3, average=269 B\n",
      "/Users/manya./repos/Python_Lang/venv/lib/python3.12/site-packages/ipykernel/zmqshell.py:549: size=768 B, count=7, average=110 B\n",
      "/Users/manya./repos/Python_Lang/venv/lib/python3.12/site-packages/pygments/formatters/terminal256.py:221: size=768 B, count=1, average=768 B\n",
      "/Users/manya./repos/Python_Lang/venv/lib/python3.12/site-packages/IPython/core/interactiveshell.py:3334: size=752 B, count=2, average=376 B\n",
      "/Users/manya./repos/Python_Lang/venv/lib/python3.12/site-packages/asttokens/line_numbers.py:49: size=728 B, count=2, average=364 B\n",
      "/Users/manya./repos/Python_Lang/venv/lib/python3.12/threading.py:269: size=688 B, count=6, average=115 B\n",
      "/Users/manya./repos/Python_Lang/venv/lib/python3.12/site-packages/ipykernel/kernelbase.py:534: size=680 B, count=3, average=227 B\n",
      "/Users/manya./repos/Python_Lang/venv/lib/python3.12/site-packages/ipykernel/kernelbase.py:778: size=672 B, count=2, average=336 B\n",
      "/Users/manya./repos/Python_Lang/venv/lib/python3.12/site-packages/IPython/core/ultratb.py:990: size=669 B, count=2, average=334 B\n",
      "/Users/manya./repos/Python_Lang/venv/lib/python3.12/site-packages/IPython/core/interactiveshell.py:3517: size=648 B, count=2, average=324 B\n",
      "/Users/manya./repos/Python_Lang/venv/lib/python3.12/site-packages/stack_data/core.py:153: size=624 B, count=13, average=48 B\n",
      "/Users/manya./repos/Python_Lang/venv/lib/python3.12/site-packages/jupyter_client/jsonutil.py:75: size=624 B, count=3, average=208 B\n",
      "/Users/manya./repos/Python_Lang/venv/lib/python3.12/site-packages/IPython/core/interactiveshell.py:3130: size=624 B, count=2, average=312 B\n",
      "/Users/manya./repos/Python_Lang/venv/lib/python3.12/site-packages/executing/executing.py:332: size=600 B, count=4, average=150 B\n",
      "/Users/manya./repos/Python_Lang/venv/lib/python3.12/site-packages/asttokens/asttokens.py:50: size=600 B, count=4, average=150 B\n",
      "/Users/manya./repos/Python_Lang/venv/lib/python3.12/site-packages/executing/executing.py:223: size=584 B, count=4, average=146 B\n",
      "/Users/manya./repos/Python_Lang/venv/lib/python3.12/asyncio/events.py:84: size=576 B, count=7, average=82 B\n",
      "/Users/manya./repos/Python_Lang/venv/lib/python3.12/site-packages/stack_data/core.py:587: size=568 B, count=4, average=142 B\n",
      "/Users/manya./repos/Python_Lang/venv/lib/python3.12/site-packages/executing/executing.py:287: size=568 B, count=4, average=142 B\n",
      "/Users/manya./repos/Python_Lang/venv/lib/python3.12/site-packages/stack_data/core.py:131: size=560 B, count=10, average=56 B\n",
      "/Users/manya./repos/Python_Lang/venv/lib/python3.12/site-packages/jupyter_client/session.py:670: size=544 B, count=4, average=136 B\n",
      "/Users/manya./repos/Python_Lang/venv/lib/python3.12/site-packages/jupyter_client/session.py:278: size=544 B, count=4, average=136 B\n",
      "/Users/manya./repos/Python_Lang/venv/lib/python3.12/site-packages/executing/_position_node_finder.py:75: size=496 B, count=4, average=124 B\n",
      "/Users/manya./repos/Python_Lang/venv/lib/python3.12/site-packages/ipykernel/kernelbase.py:435: size=496 B, count=2, average=248 B\n",
      "/Users/manya./repos/Python_Lang/venv/lib/python3.12/site-packages/IPython/core/interactiveshell.py:3075: size=496 B, count=2, average=248 B\n",
      "/Users/manya./repos/Python_Lang/venv/lib/python3.12/site-packages/IPython/core/interactiveshell.py:3577: size=488 B, count=3, average=163 B\n",
      "/Users/manya./repos/Python_Lang/venv/lib/python3.12/site-packages/pygments/lexer.py:654: size=480 B, count=3, average=160 B\n",
      "/Users/manya./repos/Python_Lang/venv/lib/python3.12/logging/__init__.py:1622: size=480 B, count=2, average=240 B\n",
      "/Users/manya./repos/Python_Lang/venv/lib/python3.12/site-packages/asttokens/line_numbers.py:32: size=476 B, count=9, average=53 B\n",
      "/Users/manya./repos/Python_Lang/venv/lib/python3.12/asyncio/futures.py:394: size=464 B, count=4, average=116 B\n",
      "/Users/manya./repos/Python_Lang/venv/lib/python3.12/site-packages/ipykernel/kernelbase.py:775: size=464 B, count=3, average=155 B\n",
      "/Users/manya./repos/Python_Lang/venv/lib/python3.12/site-packages/IPython/core/interactiveshell.py:3237: size=456 B, count=4, average=114 B\n",
      "/Users/manya./repos/Python_Lang/venv/lib/python3.12/site-packages/ipykernel/iostream.py:276: size=448 B, count=4, average=112 B\n",
      "/var/folders/jd/372d0pdn11d0cd5bj68pbg040000gn/T/ipykernel_86796/2115384267.py:12: size=441 B, count=4, average=110 B\n",
      "/Users/manya./repos/Python_Lang/venv/lib/python3.12/asyncio/base_events.py:427: size=432 B, count=3, average=144 B\n",
      "/Users/manya./repos/Python_Lang/venv/lib/python3.12/site-packages/executing/executing.py:316: size=432 B, count=2, average=216 B\n",
      "/Users/manya./repos/Python_Lang/venv/lib/python3.12/site-packages/executing/executing.py:278: size=432 B, count=2, average=216 B\n",
      "/Users/manya./repos/Python_Lang/venv/lib/python3.12/site-packages/IPython/core/interactiveshell.py:3306: size=432 B, count=2, average=216 B\n",
      "/Users/manya./repos/Python_Lang/venv/lib/python3.12/site-packages/jupyter_client/session.py:1085: size=416 B, count=2, average=208 B\n",
      "/Users/manya./repos/Python_Lang/venv/lib/python3.12/site-packages/ipykernel/kernelbase.py:770: size=416 B, count=2, average=208 B\n",
      "/Users/manya./repos/Python_Lang/venv/lib/python3.12/site-packages/ipykernel/ipkernel.py:480: size=416 B, count=2, average=208 B\n",
      "/Users/manya./repos/Python_Lang/venv/lib/python3.12/site-packages/ipykernel/iostream.py:287: size=408 B, count=4, average=102 B\n",
      "/Users/manya./repos/Python_Lang/venv/lib/python3.12/site-packages/zmq/sugar/socket.py:802: size=408 B, count=3, average=136 B\n",
      "/Users/manya./repos/Python_Lang/venv/lib/python3.12/site-packages/tornado/platform/asyncio.py:235: size=400 B, count=6, average=67 B\n",
      "/Users/manya./repos/Python_Lang/venv/lib/python3.12/site-packages/IPython/core/history.py:783: size=394 B, count=1, average=394 B\n",
      "/Users/manya./repos/Python_Lang/venv/lib/python3.12/site-packages/IPython/core/interactiveshell.py:3223: size=392 B, count=7, average=56 B\n",
      "/Users/manya./repos/Python_Lang/venv/lib/python3.12/site-packages/executing/executing.py:153: size=386 B, count=1, average=386 B\n",
      "/Users/manya./repos/Python_Lang/venv/lib/python3.12/site-packages/pygments/regexopt.py:78: size=384 B, count=8, average=48 B\n",
      "/Users/manya./repos/Python_Lang/venv/lib/python3.12/asyncio/base_events.py:792: size=384 B, count=4, average=96 B\n",
      "/Users/manya./repos/Python_Lang/venv/lib/python3.12/site-packages/IPython/core/async_helpers.py:128: size=384 B, count=2, average=192 B\n",
      "/Users/manya./repos/Python_Lang/venv/lib/python3.12/site-packages/stack_data/utils.py:156: size=376 B, count=3, average=125 B\n",
      "/Users/manya./repos/Python_Lang/venv/lib/python3.12/threading.py:121: size=368 B, count=4, average=92 B\n",
      "/Users/manya./repos/Python_Lang/venv/lib/python3.12/asyncio/futures.py:418: size=360 B, count=9, average=40 B\n",
      "/Users/manya./repos/Python_Lang/venv/lib/python3.12/site-packages/ipykernel/compiler.py:91: size=356 B, count=3, average=119 B\n",
      "/Users/manya./repos/Python_Lang/venv/lib/python3.12/dis.py:190: size=352 B, count=4, average=88 B\n",
      "/Users/manya./repos/Python_Lang/venv/lib/python3.12/site-packages/jupyter_client/jsonutil.py:73: size=320 B, count=5, average=64 B\n",
      "/Users/manya./repos/Python_Lang/venv/lib/python3.12/asyncio/futures.py:381: size=320 B, count=2, average=160 B\n",
      "/Users/manya./repos/Python_Lang/venv/lib/python3.12/site-packages/ipykernel/iostream.py:527: size=304 B, count=4, average=76 B\n",
      "/Users/manya./repos/Python_Lang/venv/lib/python3.12/site-packages/IPython/core/ultratb.py:1141: size=304 B, count=2, average=152 B\n",
      "/Users/manya./repos/Python_Lang/venv/lib/python3.12/site-packages/IPython/core/ultratb.py:1138: size=304 B, count=2, average=152 B\n",
      "/Users/manya./repos/Python_Lang/venv/lib/python3.12/site-packages/tornado/queues.py:248: size=288 B, count=2, average=144 B\n",
      "/Users/manya./repos/Python_Lang/venv/lib/python3.12/dis.py:389: size=279 B, count=6, average=46 B\n",
      "/Users/manya./repos/Python_Lang/venv/lib/python3.12/site-packages/stack_data/core.py:101: size=272 B, count=4, average=68 B\n",
      "/Users/manya./repos/Python_Lang/venv/lib/python3.12/site-packages/IPython/core/interactiveshell.py:3240: size=272 B, count=2, average=136 B\n",
      "/Users/manya./repos/Python_Lang/venv/lib/python3.12/site-packages/asttokens/line_numbers.py:48: size=256 B, count=1, average=256 B\n",
      "/Users/manya./repos/Python_Lang/venv/lib/python3.12/site-packages/IPython/core/history.py:790: size=256 B, count=1, average=256 B\n",
      "/Users/manya./repos/Python_Lang/venv/lib/python3.12/site-packages/IPython/core/history.py:789: size=256 B, count=1, average=256 B\n",
      "/Users/manya./repos/Python_Lang/venv/lib/python3.12/site-packages/ipykernel/iostream.py:121: size=248 B, count=1, average=248 B\n",
      "/Users/manya./repos/Python_Lang/venv/lib/python3.12/site-packages/IPython/core/ultratb.py:552: size=241 B, count=1, average=241 B\n",
      "/Users/manya./repos/Python_Lang/venv/lib/python3.12/site-packages/ipykernel/kernelbase.py:318: size=240 B, count=4, average=60 B\n",
      "/Users/manya./repos/Python_Lang/venv/lib/python3.12/site-packages/IPython/core/history.py:836: size=240 B, count=3, average=80 B\n",
      "/Users/manya./repos/Python_Lang/venv/lib/python3.12/site-packages/jupyter_client/session.py:672: size=240 B, count=2, average=120 B\n",
      "/Users/manya./repos/Python_Lang/venv/lib/python3.12/inspect.py:265: size=240 B, count=2, average=120 B\n",
      "/var/folders/jd/372d0pdn11d0cd5bj68pbg040000gn/T/ipykernel_86796/3273124105.py:7: size=232 B, count=2, average=116 B\n",
      "/var/folders/jd/372d0pdn11d0cd5bj68pbg040000gn/T/ipykernel_86796/3273124105.py:4: size=232 B, count=2, average=116 B\n",
      "/Users/manya./repos/Python_Lang/venv/lib/python3.12/site-packages/ipykernel/kernelbase.py:545: size=232 B, count=1, average=232 B\n",
      "/Users/manya./repos/Python_Lang/venv/lib/python3.12/site-packages/jupyter_client/session.py:989: size=222 B, count=4, average=56 B\n",
      "/Users/manya./repos/Python_Lang/venv/lib/python3.12/site-packages/zmq/eventloop/zmqstream.py:468: size=216 B, count=2, average=108 B\n",
      "/Users/manya./repos/Python_Lang/venv/lib/python3.12/site-packages/IPython/core/interactiveshell.py:3224: size=208 B, count=5, average=42 B\n",
      "/var/folders/jd/372d0pdn11d0cd5bj68pbg040000gn/T/ipykernel_86796/451043146.py:1: size=208 B, count=2, average=104 B\n",
      "/Users/manya./repos/Python_Lang/venv/lib/python3.12/site-packages/pygments/style.py:81: size=208 B, count=1, average=208 B\n",
      "/Users/manya./repos/Python_Lang/venv/lib/python3.12/site-packages/IPython/core/interactiveshell.py:3598: size=208 B, count=1, average=208 B\n",
      "/Users/manya./repos/Python_Lang/venv/lib/python3.12/site-packages/jupyter_client/session.py:688: size=194 B, count=2, average=97 B\n",
      "/Users/manya./repos/Python_Lang/venv/lib/python3.12/site-packages/jupyter_client/session.py:200: size=192 B, count=4, average=48 B\n",
      "/Users/manya./repos/Python_Lang/venv/lib/python3.12/site-packages/jupyter_client/session.py:750: size=192 B, count=2, average=96 B\n",
      "/Users/manya./repos/Python_Lang/venv/lib/python3.12/site-packages/stack_data/core.py:819: size=184 B, count=5, average=37 B\n",
      "/Users/manya./repos/Python_Lang/venv/lib/python3.12/site-packages/IPython/core/interactiveshell.py:3509: size=184 B, count=4, average=46 B\n",
      "/Users/manya./repos/Python_Lang/venv/lib/python3.12/dis.py:481: size=182 B, count=3, average=61 B\n",
      "/Users/manya./repos/Python_Lang/venv/lib/python3.12/threading.py:327: size=176 B, count=2, average=88 B\n",
      "/Users/manya./repos/Python_Lang/venv/lib/python3.12/site-packages/ipykernel/kernelbase.py:1182: size=173 B, count=2, average=86 B\n",
      "/Users/manya./repos/Python_Lang/venv/lib/python3.12/site-packages/jupyter_client/session.py:604: size=170 B, count=2, average=85 B\n",
      "/Users/manya./repos/Python_Lang/venv/lib/python3.12/dis.py:477: size=165 B, count=3, average=55 B\n",
      "/Users/manya./repos/Python_Lang/venv/lib/python3.12/site-packages/stack_data/core.py:684: size=160 B, count=4, average=40 B\n",
      "/Users/manya./repos/Python_Lang/venv/lib/python3.12/site-packages/ipykernel/kernelbase.py:570: size=160 B, count=1, average=160 B\n",
      "/Users/manya./repos/Python_Lang/venv/lib/python3.12/site-packages/ipykernel/kernelbase.py:324: size=160 B, count=1, average=160 B\n",
      "/Users/manya./repos/Python_Lang/venv/lib/python3.12/site-packages/executing/executing.py:451: size=160 B, count=1, average=160 B\n",
      "/Users/manya./repos/Python_Lang/venv/lib/python3.12/site-packages/IPython/core/interactiveshell.py:3493: size=160 B, count=1, average=160 B\n",
      "/Users/manya./repos/Python_Lang/venv/lib/python3.12/site-packages/IPython/core/interactiveshell.py:2149: size=160 B, count=1, average=160 B\n",
      "/Users/manya./repos/Python_Lang/venv/lib/python3.12/asyncio/futures.py:387: size=160 B, count=1, average=160 B\n",
      "/Users/manya./repos/Python_Lang/venv/lib/python3.12/site-packages/dateutil/parser/_parser.py:1195: size=144 B, count=3, average=48 B\n",
      "/Users/manya./repos/Python_Lang/venv/lib/python3.12/re/__init__.py:260: size=144 B, count=3, average=48 B\n",
      "/Users/manya./repos/Python_Lang/venv/lib/python3.12/threading.py:271: size=144 B, count=2, average=72 B\n",
      "/Users/manya./repos/Python_Lang/venv/lib/python3.12/threading.py:267: size=144 B, count=2, average=72 B\n",
      "/Users/manya./repos/Python_Lang/venv/lib/python3.12/threading.py:262: size=144 B, count=2, average=72 B\n",
      "/Users/manya./repos/Python_Lang/venv/lib/python3.12/threading.py:261: size=144 B, count=2, average=72 B\n",
      "/Users/manya./repos/Python_Lang/venv/lib/python3.12/site-packages/ipykernel/iostream.py:722: size=144 B, count=2, average=72 B\n",
      "/Users/manya./repos/Python_Lang/venv/lib/python3.12/site-packages/executing/executing.py:156: size=144 B, count=2, average=72 B\n",
      "/Users/manya./repos/Python_Lang/venv/lib/python3.12/site-packages/IPython/core/compilerop.py:171: size=144 B, count=2, average=72 B\n",
      "/Users/manya./repos/Python_Lang/venv/lib/python3.12/site-packages/IPython/core/history.py:805: size=135 B, count=3, average=45 B\n",
      "/Users/manya./repos/Python_Lang/venv/lib/python3.12/site-packages/stack_data/utils.py:155: size=128 B, count=3, average=43 B\n",
      "/Users/manya./repos/Python_Lang/venv/lib/python3.12/site-packages/zmq/sugar/socket.py:806: size=128 B, count=2, average=64 B\n",
      "/Users/manya./repos/Python_Lang/venv/lib/python3.12/site-packages/stack_data/utils.py:145: size=128 B, count=2, average=64 B\n",
      "/Users/manya./repos/Python_Lang/venv/lib/python3.12/site-packages/pygments/lexer.py:596: size=128 B, count=2, average=64 B\n",
      "/Users/manya./repos/Python_Lang/venv/lib/python3.12/site-packages/jupyter_client/session.py:1053: size=128 B, count=2, average=64 B\n",
      "/Users/manya./repos/Python_Lang/venv/lib/python3.12/site-packages/ipykernel/kernelbase.py:761: size=128 B, count=2, average=64 B\n",
      "/Users/manya./repos/Python_Lang/venv/lib/python3.12/site-packages/ipykernel/kernelbase.py:721: size=128 B, count=2, average=64 B\n",
      "/Users/manya./repos/Python_Lang/venv/lib/python3.12/site-packages/ipykernel/kernelbase.py:69: size=128 B, count=2, average=64 B\n",
      "/Users/manya./repos/Python_Lang/venv/lib/python3.12/site-packages/ipykernel/ipkernel.py:476: size=128 B, count=2, average=64 B\n",
      "/Users/manya./repos/Python_Lang/venv/lib/python3.12/site-packages/ipykernel/ipkernel.py:384: size=128 B, count=2, average=64 B\n",
      "/Users/manya./repos/Python_Lang/venv/lib/python3.12/site-packages/ipykernel/ipkernel.py:383: size=128 B, count=2, average=64 B\n",
      "/Users/manya./repos/Python_Lang/venv/lib/python3.12/site-packages/ipykernel/ipkernel.py:381: size=128 B, count=2, average=64 B\n",
      "/Users/manya./repos/Python_Lang/venv/lib/python3.12/re/__init__.py:289: size=128 B, count=2, average=64 B\n",
      "/Users/manya./repos/Python_Lang/venv/lib/python3.12/site-packages/IPython/core/ultratb.py:1200: size=127 B, count=1, average=127 B\n",
      "/Users/manya./repos/Python_Lang/venv/lib/python3.12/site-packages/IPython/core/ultratb.py:1022: size=127 B, count=1, average=127 B\n",
      "/Users/manya./repos/Python_Lang/venv/lib/python3.12/site-packages/jupyter_client/session.py:996: size=120 B, count=3, average=40 B\n",
      "/Users/manya./repos/Python_Lang/venv/lib/python3.12/site-packages/traitlets/traitlets.py:1540: size=120 B, count=2, average=60 B\n",
      "/Users/manya./repos/Python_Lang/venv/lib/python3.12/site-packages/pygments/formatters/terminal256.py:136: size=120 B, count=1, average=120 B\n",
      "/Users/manya./repos/Python_Lang/venv/lib/python3.12/asyncio/base_events.py:755: size=120 B, count=1, average=120 B\n",
      "/Users/manya./repos/Python_Lang/venv/lib/python3.12/site-packages/IPython/core/ultratb.py:1047: size=116 B, count=1, average=116 B\n",
      "/Users/manya./repos/Python_Lang/venv/lib/python3.12/site-packages/zmq/sugar/poll.py:50: size=112 B, count=2, average=56 B\n",
      "/Users/manya./repos/Python_Lang/venv/lib/python3.12/site-packages/stack_data/utils.py:41: size=112 B, count=2, average=56 B\n",
      "/Users/manya./repos/Python_Lang/venv/lib/python3.12/site-packages/stack_data/core.py:828: size=112 B, count=2, average=56 B\n",
      "/Users/manya./repos/Python_Lang/venv/lib/python3.12/site-packages/stack_data/core.py:740: size=112 B, count=2, average=56 B\n",
      "/Users/manya./repos/Python_Lang/venv/lib/python3.12/site-packages/stack_data/core.py:615: size=112 B, count=2, average=56 B\n",
      "/Users/manya./repos/Python_Lang/venv/lib/python3.12/site-packages/pygments/regexopt.py:66: size=112 B, count=2, average=56 B\n",
      "/Users/manya./repos/Python_Lang/venv/lib/python3.12/site-packages/pygments/regexopt.py:63: size=112 B, count=2, average=56 B\n",
      "/Users/manya./repos/Python_Lang/venv/lib/python3.12/site-packages/pygments/regexopt.py:39: size=112 B, count=2, average=56 B\n",
      "/Users/manya./repos/Python_Lang/venv/lib/python3.12/site-packages/jupyter_client/session.py:1088: size=112 B, count=2, average=56 B\n",
      "/Users/manya./repos/Python_Lang/venv/lib/python3.12/site-packages/executing/_position_node_finder.py:117: size=112 B, count=2, average=56 B\n",
      "/Users/manya./repos/Python_Lang/venv/lib/python3.12/site-packages/IPython/core/payload.py:54: size=112 B, count=2, average=56 B\n",
      "/Users/manya./repos/Python_Lang/venv/lib/python3.12/site-packages/IPython/core/interactiveshell.py:3498: size=112 B, count=2, average=56 B\n",
      "/Users/manya./repos/Python_Lang/venv/lib/python3.12/concurrent/futures/_base.py:334: size=112 B, count=2, average=56 B\n",
      "/Users/manya./repos/Python_Lang/venv/lib/python3.12/json/encoder.py:249: size=112 B, count=1, average=112 B\n",
      "/Users/manya./repos/Python_Lang/venv/lib/python3.12/site-packages/ipykernel/ipkernel.py:470: size=107 B, count=2, average=54 B\n",
      "<frozen posixpath>:413: size=107 B, count=1, average=107 B\n",
      "/Users/manya./repos/Python_Lang/venv/lib/python3.12/inspect.py:2102: size=104 B, count=1, average=104 B\n",
      "/Users/manya./repos/Python_Lang/venv/lib/python3.12/site-packages/zmq/eventloop/zmqstream.py:560: size=96 B, count=2, average=48 B\n",
      "/Users/manya./repos/Python_Lang/venv/lib/python3.12/site-packages/stack_data/core.py:616: size=96 B, count=2, average=48 B\n",
      "/Users/manya./repos/Python_Lang/venv/lib/python3.12/site-packages/IPython/core/interactiveshell.py:3375: size=96 B, count=2, average=48 B\n",
      "/Users/manya./repos/Python_Lang/venv/lib/python3.12/site-packages/IPython/core/history.py:793: size=96 B, count=2, average=48 B\n",
      "/Users/manya./repos/Python_Lang/venv/lib/python3.12/concurrent/futures/_base.py:330: size=96 B, count=2, average=48 B\n",
      "/Users/manya./repos/Python_Lang/venv/lib/python3.12/selectors.py:561: size=96 B, count=1, average=96 B\n",
      "/Users/manya./repos/Python_Lang/venv/lib/python3.12/inspect.py:2111: size=96 B, count=1, average=96 B\n",
      "/Users/manya./repos/Python_Lang/venv/lib/python3.12/site-packages/pygments/style.py:74: size=94 B, count=2, average=47 B\n",
      "/Users/manya./repos/Python_Lang/venv/lib/python3.12/dis.py:495: size=94 B, count=2, average=47 B\n",
      "/Users/manya./repos/Python_Lang/venv/lib/python3.12/site-packages/IPython/core/interactiveshell.py:3503: size=88 B, count=2, average=44 B\n",
      "/Users/manya./repos/Python_Lang/venv/lib/python3.12/inspect.py:2489: size=88 B, count=1, average=88 B\n",
      "/Users/manya./repos/Python_Lang/venv/lib/python3.12/site-packages/stack_data/core.py:824: size=80 B, count=2, average=40 B\n",
      "/Users/manya./repos/Python_Lang/venv/lib/python3.12/site-packages/stack_data/core.py:763: size=80 B, count=2, average=40 B\n",
      "/Users/manya./repos/Python_Lang/venv/lib/python3.12/site-packages/ipykernel/kernelbase.py:391: size=80 B, count=2, average=40 B\n",
      "/Users/manya./repos/Python_Lang/venv/lib/python3.12/site-packages/ipykernel/kernelbase.py:327: size=80 B, count=2, average=40 B\n",
      "/Users/manya./repos/Python_Lang/venv/lib/python3.12/asyncio/base_events.py:1935: size=80 B, count=2, average=40 B\n",
      "/Users/manya./repos/Python_Lang/venv/lib/python3.12/site-packages/pygments/style.py:90: size=80 B, count=1, average=80 B\n",
      "/Users/manya./repos/Python_Lang/venv/lib/python3.12/site-packages/ipykernel/ipkernel.py:471: size=80 B, count=1, average=80 B\n",
      "/var/folders/jd/372d0pdn11d0cd5bj68pbg040000gn/T/ipykernel_86796/451043146.py:0: size=72 B, count=1, average=72 B\n",
      "/Users/manya./repos/Python_Lang/venv/lib/python3.12/tracemalloc.py:551: size=72 B, count=1, average=72 B\n",
      "/Users/manya./repos/Python_Lang/venv/lib/python3.12/site-packages/pygments/lexer.py:389: size=72 B, count=1, average=72 B\n",
      "/Users/manya./repos/Python_Lang/venv/lib/python3.12/site-packages/IPython/core/ultratb.py:1485: size=72 B, count=1, average=72 B\n",
      "/Users/manya./repos/Python_Lang/venv/lib/python3.12/site-packages/IPython/core/ultratb.py:695: size=72 B, count=1, average=72 B\n",
      "/Users/manya./repos/Python_Lang/venv/lib/python3.12/site-packages/IPython/core/ultratb.py:619: size=72 B, count=1, average=72 B\n",
      "/Users/manya./repos/Python_Lang/venv/lib/python3.12/site-packages/IPython/core/ultratb.py:497: size=72 B, count=1, average=72 B\n",
      "/Users/manya./repos/Python_Lang/venv/lib/python3.12/site-packages/IPython/core/interactiveshell.py:2203: size=72 B, count=1, average=72 B\n",
      "/Users/manya./repos/Python_Lang/venv/lib/python3.12/linecache.py:26: size=72 B, count=1, average=72 B\n",
      "/Users/manya./repos/Python_Lang/venv/lib/python3.12/inspect.py:1481: size=72 B, count=1, average=72 B\n",
      "/Users/manya./repos/Python_Lang/venv/lib/python3.12/site-packages/tornado/queues.py:318: size=64 B, count=2, average=32 B\n",
      "/Users/manya./repos/Python_Lang/venv/lib/python3.12/site-packages/executing/executing.py:258: size=64 B, count=2, average=32 B\n",
      "/Users/manya./repos/Python_Lang/venv/lib/python3.12/site-packages/IPython/core/interactiveshell.py:3485: size=64 B, count=2, average=32 B\n",
      "/Users/manya./repos/Python_Lang/venv/lib/python3.12/concurrent/futures/_base.py:421: size=64 B, count=2, average=32 B\n",
      "/Users/manya./repos/Python_Lang/venv/lib/python3.12/threading.py:631: size=64 B, count=1, average=64 B\n",
      "/Users/manya./repos/Python_Lang/venv/lib/python3.12/site-packages/jupyter_client/session.py:663: size=64 B, count=1, average=64 B\n",
      "/Users/manya./repos/Python_Lang/venv/lib/python3.12/site-packages/ipykernel/ipkernel.py:494: size=64 B, count=1, average=64 B\n",
      "/Users/manya./repos/Python_Lang/venv/lib/python3.12/site-packages/ipykernel/ipkernel.py:294: size=64 B, count=1, average=64 B\n",
      "/Users/manya./repos/Python_Lang/venv/lib/python3.12/site-packages/ipykernel/ipkernel.py:291: size=64 B, count=1, average=64 B\n",
      "/Users/manya./repos/Python_Lang/venv/lib/python3.12/site-packages/IPython/core/ultratb.py:1228: size=64 B, count=1, average=64 B\n",
      "/Users/manya./repos/Python_Lang/venv/lib/python3.12/site-packages/IPython/core/interactiveshell.py:3566: size=64 B, count=1, average=64 B\n",
      "/Users/manya./repos/Python_Lang/venv/lib/python3.12/site-packages/IPython/core/interactiveshell.py:3515: size=64 B, count=1, average=64 B\n",
      "/Users/manya./repos/Python_Lang/venv/lib/python3.12/site-packages/IPython/core/interactiveshell.py:3303: size=64 B, count=1, average=64 B\n",
      "/Users/manya./repos/Python_Lang/venv/lib/python3.12/site-packages/IPython/core/interactiveshell.py:3300: size=64 B, count=1, average=64 B\n",
      "/Users/manya./repos/Python_Lang/venv/lib/python3.12/inspect.py:1335: size=64 B, count=1, average=64 B\n",
      "/Users/manya./repos/Python_Lang/venv/lib/python3.12/site-packages/ipykernel/kernelbase.py:560: size=56 B, count=2, average=28 B\n",
      "/Users/manya./repos/Python_Lang/venv/lib/python3.12/site-packages/IPython/core/compilerop.py:172: size=56 B, count=2, average=28 B\n",
      "/Users/manya./repos/Python_Lang/venv/lib/python3.12/tracemalloc.py:558: size=56 B, count=1, average=56 B\n",
      "/Users/manya./repos/Python_Lang/venv/lib/python3.12/site-packages/traitlets/traitlets.py:1534: size=56 B, count=1, average=56 B\n",
      "/Users/manya./repos/Python_Lang/venv/lib/python3.12/site-packages/stack_data/core.py:175: size=56 B, count=1, average=56 B\n",
      "/Users/manya./repos/Python_Lang/venv/lib/python3.12/site-packages/stack_data/core.py:166: size=56 B, count=1, average=56 B\n",
      "/Users/manya./repos/Python_Lang/venv/lib/python3.12/site-packages/pygments/formatters/terminal256.py:138: size=56 B, count=1, average=56 B\n",
      "/Users/manya./repos/Python_Lang/venv/lib/python3.12/site-packages/jupyter_client/session.py:738: size=56 B, count=1, average=56 B\n",
      "/Users/manya./repos/Python_Lang/venv/lib/python3.12/site-packages/IPython/core/ultratb.py:1201: size=56 B, count=1, average=56 B\n",
      "/Users/manya./repos/Python_Lang/venv/lib/python3.12/site-packages/IPython/core/ultratb.py:542: size=56 B, count=1, average=56 B\n",
      "/Users/manya./repos/Python_Lang/venv/lib/python3.12/site-packages/IPython/core/interactiveshell.py:3483: size=56 B, count=1, average=56 B\n",
      "/Users/manya./repos/Python_Lang/venv/lib/python3.12/site-packages/IPython/core/history.py:875: size=56 B, count=1, average=56 B\n",
      "/Users/manya./repos/Python_Lang/venv/lib/python3.12/site-packages/IPython/core/history.py:866: size=56 B, count=1, average=56 B\n",
      "/Users/manya./repos/Python_Lang/venv/lib/python3.12/selectors.py:559: size=56 B, count=1, average=56 B\n",
      "/Users/manya./repos/Python_Lang/venv/lib/python3.12/concurrent/futures/_base.py:335: size=56 B, count=1, average=56 B\n",
      "/Users/manya./repos/Python_Lang/venv/lib/python3.12/textwrap.py:466: size=50 B, count=1, average=50 B\n",
      "/Users/manya./repos/Python_Lang/venv/lib/python3.12/site-packages/IPython/core/interactiveshell.py:3505: size=48 B, count=1, average=48 B\n",
      "/Users/manya./repos/Python_Lang/venv/lib/python3.12/enum.py:1536: size=48 B, count=1, average=48 B\n",
      "/Users/manya./repos/Python_Lang/venv/lib/python3.12/site-packages/IPython/core/prefilter.py:317: size=47 B, count=1, average=47 B\n",
      "/Users/manya./repos/Python_Lang/venv/lib/python3.12/site-packages/IPython/core/interactiveshell.py:3599: size=40 B, count=1, average=40 B\n",
      "/Users/manya./repos/Python_Lang/venv/lib/python3.12/site-packages/jupyter_client/session.py:603: size=32 B, count=1, average=32 B\n",
      "/Users/manya./repos/Python_Lang/venv/lib/python3.12/site-packages/IPython/core/ultratb.py:553: size=32 B, count=1, average=32 B\n",
      "/Users/manya./repos/Python_Lang/venv/lib/python3.12/site-packages/IPython/core/compilerop.py:192: size=32 B, count=1, average=32 B\n",
      "/Users/manya./repos/Python_Lang/venv/lib/python3.12/queue.py:151: size=32 B, count=1, average=32 B\n",
      "/Users/manya./repos/Python_Lang/venv/lib/python3.12/asyncio/base_events.py:758: size=32 B, count=1, average=32 B\n",
      "/Users/manya./repos/Python_Lang/venv/lib/python3.12/site-packages/asttokens/line_numbers.py:34: size=28 B, count=1, average=28 B\n",
      "/Users/manya./repos/Python_Lang/venv/lib/python3.12/logging/__init__.py:343: size=24 B, count=1, average=24 B\n"
     ]
    }
   ],
   "source": [
    "main()"
   ]
  },
  {
   "cell_type": "code",
   "execution_count": null,
   "metadata": {},
   "outputs": [],
   "source": []
  }
 ],
 "metadata": {
  "kernelspec": {
   "display_name": "Python 3",
   "language": "python",
   "name": "python3"
  },
  "language_info": {
   "codemirror_mode": {
    "name": "ipython",
    "version": 3
   },
   "file_extension": ".py",
   "mimetype": "text/x-python",
   "name": "python",
   "nbconvert_exporter": "python",
   "pygments_lexer": "ipython3",
   "version": "3.12.0"
  }
 },
 "nbformat": 4,
 "nbformat_minor": 2
}
